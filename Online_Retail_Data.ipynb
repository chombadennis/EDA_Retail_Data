{
 "cells": [
  {
   "cell_type": "markdown",
   "metadata": {},
   "source": [
    "Online Retail Exploratory Data Analysis with Python"
   ]
  },
  {
   "cell_type": "markdown",
   "metadata": {},
   "source": [
    "## Overview\n",
    "\n",
    "In this project, you will step into the shoes of an entry-level data analyst at an online retail company, helping interpret real-world data to help make a key business decision."
   ]
  },
  {
   "cell_type": "markdown",
   "metadata": {},
   "source": [
    "## Case Study\n",
    "In this project, I am working with transactional data from an online retail store. The dataset contains information about customer purchases, including product details, quantities, prices, and timestamps. Your task is to explore and analyze this dataset to gain insights into the store's sales trends, customer behavior, and popular products. \n",
    "\n",
    "By conducting exploratory data analysis, I will identify patterns, outliers, and correlations in the data, allowing me to make data-driven decisions and recommendations to optimize the store's operations and improve customer satisfaction. Through visualizations and statistical analysis, you will uncover key trends, such as the busiest sales months, best-selling products, and the store's most valuable customers. Ultimately, this project aims to provide actionable insights that can drive strategic business decisions and enhance the store's overall performance in the competitive online retail market."
   ]
  },
  {
   "cell_type": "markdown",
   "metadata": {},
   "source": [
    "## Project Objectives\n",
    "1. Describe data to answer key questions to uncover insights\n",
    "2. Gain valuable insights that will help improve online retail performance\n",
    "3. Provide analytic insights and data-driven recommendations"
   ]
  },
  {
   "cell_type": "markdown",
   "metadata": {},
   "source": [
    "## Dataset\n",
    "\n",
    "The dataset contains the following columns:\n",
    "\n",
    "- InvoiceNo: Invoice number of the transaction\n",
    "- StockCode: Unique code of the product\n",
    "- Description: Description of the product\n",
    "- Quantity: Quantity of the product in the transaction\n",
    "- InvoiceDate: Date and time of the transaction\n",
    "- UnitPrice: Unit price of the product\n",
    "- CustomerID: Unique identifier of the customer\n",
    "- Country: Country where the transaction occurred"
   ]
  },
  {
   "cell_type": "markdown",
   "metadata": {
    "jp-MarkdownHeadingCollapsed": true,
    "tags": []
   },
   "source": [
    "## Tasks\n",
    "\n",
    "1. Load the dataset into a Pandas DataFrame and display the first few rows to get an overview of the data.\n",
    "2. Perform data cleaning by handling missing values, if any, and removing any redundant or unnecessary columns.\n",
    "3. Explore the basic statistics of the dataset, including measures of central tendency and dispersion.\n",
    "4. Perform data visualization to gain insights into the dataset. Generate appropriate plots, such as histograms, scatter plots, or bar plots, to visualize different aspects of the data.\n",
    "5. Analyze the sales trends over time. Identify the busiest months and days of the week in terms of sales.\n",
    "6. Explore the top-selling products and countries based on the quantity sold.\n",
    "7. Identify any outliers or anomalies in the dataset and discuss their potential impact on the analysis.\n",
    "8. Draw conclusions and summarize your findings from the exploratory data analysis."
   ]
  },
  {
   "cell_type": "markdown",
   "metadata": {},
   "source": [
    "## Import the Libraries"
   ]
  },
  {
   "cell_type": "markdown",
   "metadata": {},
   "source": [
    "## !! pip install pandas geopandas matplotlib"
   ]
  },
  {
   "cell_type": "code",
   "execution_count": 1,
   "metadata": {
    "editable": true,
    "slideshow": {
     "slide_type": ""
    },
    "tags": []
   },
   "outputs": [],
   "source": [
    "# Import libraries\n",
    "import pandas as pd\n",
    "import numpy as np\n",
    "import seaborn as sns\n",
    "%matplotlib inline\n",
    "sns.set(color_codes = True)\n",
    "import matplotlib.pyplot as plt"
   ]
  },
  {
   "cell_type": "code",
   "execution_count": 2,
   "metadata": {},
   "outputs": [],
   "source": [
    "## Load the Data"
   ]
  },
  {
   "cell_type": "code",
   "execution_count": 3,
   "metadata": {},
   "outputs": [],
   "source": [
    "# Loading Data into the dataframe\n",
    "df = pd.read_csv(\"Online Retail.csv\")\n"
   ]
  },
  {
   "cell_type": "markdown",
   "metadata": {},
   "source": [
    "## Data Cleaning and Exploration"
   ]
  },
  {
   "cell_type": "code",
   "execution_count": 4,
   "metadata": {},
   "outputs": [
    {
     "data": {
      "text/html": [
       "<div>\n",
       "<style scoped>\n",
       "    .dataframe tbody tr th:only-of-type {\n",
       "        vertical-align: middle;\n",
       "    }\n",
       "\n",
       "    .dataframe tbody tr th {\n",
       "        vertical-align: top;\n",
       "    }\n",
       "\n",
       "    .dataframe thead th {\n",
       "        text-align: right;\n",
       "    }\n",
       "</style>\n",
       "<table border=\"1\" class=\"dataframe\">\n",
       "  <thead>\n",
       "    <tr style=\"text-align: right;\">\n",
       "      <th></th>\n",
       "      <th>InvoiceNo</th>\n",
       "      <th>StockCode</th>\n",
       "      <th>Description</th>\n",
       "      <th>Quantity</th>\n",
       "      <th>InvoiceDate</th>\n",
       "      <th>UnitPrice</th>\n",
       "      <th>CustomerID</th>\n",
       "      <th>Country</th>\n",
       "    </tr>\n",
       "  </thead>\n",
       "  <tbody>\n",
       "    <tr>\n",
       "      <th>0</th>\n",
       "      <td>536365</td>\n",
       "      <td>85123A</td>\n",
       "      <td>WHITE HANGING HEART T-LIGHT HOLDER</td>\n",
       "      <td>6</td>\n",
       "      <td>12/1/2010 8:26</td>\n",
       "      <td>2.55</td>\n",
       "      <td>17850.0</td>\n",
       "      <td>United Kingdom</td>\n",
       "    </tr>\n",
       "    <tr>\n",
       "      <th>1</th>\n",
       "      <td>536365</td>\n",
       "      <td>71053</td>\n",
       "      <td>WHITE METAL LANTERN</td>\n",
       "      <td>6</td>\n",
       "      <td>12/1/2010 8:26</td>\n",
       "      <td>3.39</td>\n",
       "      <td>17850.0</td>\n",
       "      <td>United Kingdom</td>\n",
       "    </tr>\n",
       "    <tr>\n",
       "      <th>2</th>\n",
       "      <td>536365</td>\n",
       "      <td>84406B</td>\n",
       "      <td>CREAM CUPID HEARTS COAT HANGER</td>\n",
       "      <td>8</td>\n",
       "      <td>12/1/2010 8:26</td>\n",
       "      <td>2.75</td>\n",
       "      <td>17850.0</td>\n",
       "      <td>United Kingdom</td>\n",
       "    </tr>\n",
       "    <tr>\n",
       "      <th>3</th>\n",
       "      <td>536365</td>\n",
       "      <td>84029G</td>\n",
       "      <td>KNITTED UNION FLAG HOT WATER BOTTLE</td>\n",
       "      <td>6</td>\n",
       "      <td>12/1/2010 8:26</td>\n",
       "      <td>3.39</td>\n",
       "      <td>17850.0</td>\n",
       "      <td>United Kingdom</td>\n",
       "    </tr>\n",
       "    <tr>\n",
       "      <th>4</th>\n",
       "      <td>536365</td>\n",
       "      <td>84029E</td>\n",
       "      <td>RED WOOLLY HOTTIE WHITE HEART.</td>\n",
       "      <td>6</td>\n",
       "      <td>12/1/2010 8:26</td>\n",
       "      <td>3.39</td>\n",
       "      <td>17850.0</td>\n",
       "      <td>United Kingdom</td>\n",
       "    </tr>\n",
       "  </tbody>\n",
       "</table>\n",
       "</div>"
      ],
      "text/plain": [
       "  InvoiceNo StockCode                          Description  Quantity  \\\n",
       "0    536365    85123A   WHITE HANGING HEART T-LIGHT HOLDER         6   \n",
       "1    536365     71053                  WHITE METAL LANTERN         6   \n",
       "2    536365    84406B       CREAM CUPID HEARTS COAT HANGER         8   \n",
       "3    536365    84029G  KNITTED UNION FLAG HOT WATER BOTTLE         6   \n",
       "4    536365    84029E       RED WOOLLY HOTTIE WHITE HEART.         6   \n",
       "\n",
       "      InvoiceDate  UnitPrice  CustomerID         Country  \n",
       "0  12/1/2010 8:26       2.55     17850.0  United Kingdom  \n",
       "1  12/1/2010 8:26       3.39     17850.0  United Kingdom  \n",
       "2  12/1/2010 8:26       2.75     17850.0  United Kingdom  \n",
       "3  12/1/2010 8:26       3.39     17850.0  United Kingdom  \n",
       "4  12/1/2010 8:26       3.39     17850.0  United Kingdom  "
      ]
     },
     "execution_count": 4,
     "metadata": {},
     "output_type": "execute_result"
    }
   ],
   "source": [
    "# Display top 5 rows\n",
    "df.head(5)"
   ]
  },
  {
   "cell_type": "code",
   "execution_count": 5,
   "metadata": {
    "tags": []
   },
   "outputs": [
    {
     "data": {
      "text/html": [
       "<div>\n",
       "<style scoped>\n",
       "    .dataframe tbody tr th:only-of-type {\n",
       "        vertical-align: middle;\n",
       "    }\n",
       "\n",
       "    .dataframe tbody tr th {\n",
       "        vertical-align: top;\n",
       "    }\n",
       "\n",
       "    .dataframe thead th {\n",
       "        text-align: right;\n",
       "    }\n",
       "</style>\n",
       "<table border=\"1\" class=\"dataframe\">\n",
       "  <thead>\n",
       "    <tr style=\"text-align: right;\">\n",
       "      <th></th>\n",
       "      <th>InvoiceNo</th>\n",
       "      <th>StockCode</th>\n",
       "      <th>Description</th>\n",
       "      <th>Quantity</th>\n",
       "      <th>InvoiceDate</th>\n",
       "      <th>UnitPrice</th>\n",
       "      <th>CustomerID</th>\n",
       "      <th>Country</th>\n",
       "    </tr>\n",
       "  </thead>\n",
       "  <tbody>\n",
       "    <tr>\n",
       "      <th>541904</th>\n",
       "      <td>581587</td>\n",
       "      <td>22613</td>\n",
       "      <td>PACK OF 20 SPACEBOY NAPKINS</td>\n",
       "      <td>12</td>\n",
       "      <td>12/9/2011 12:50</td>\n",
       "      <td>0.85</td>\n",
       "      <td>12680.0</td>\n",
       "      <td>France</td>\n",
       "    </tr>\n",
       "    <tr>\n",
       "      <th>541905</th>\n",
       "      <td>581587</td>\n",
       "      <td>22899</td>\n",
       "      <td>CHILDREN'S APRON DOLLY GIRL</td>\n",
       "      <td>6</td>\n",
       "      <td>12/9/2011 12:50</td>\n",
       "      <td>2.10</td>\n",
       "      <td>12680.0</td>\n",
       "      <td>France</td>\n",
       "    </tr>\n",
       "    <tr>\n",
       "      <th>541906</th>\n",
       "      <td>581587</td>\n",
       "      <td>23254</td>\n",
       "      <td>CHILDRENS CUTLERY DOLLY GIRL</td>\n",
       "      <td>4</td>\n",
       "      <td>12/9/2011 12:50</td>\n",
       "      <td>4.15</td>\n",
       "      <td>12680.0</td>\n",
       "      <td>France</td>\n",
       "    </tr>\n",
       "    <tr>\n",
       "      <th>541907</th>\n",
       "      <td>581587</td>\n",
       "      <td>23255</td>\n",
       "      <td>CHILDRENS CUTLERY CIRCUS PARADE</td>\n",
       "      <td>4</td>\n",
       "      <td>12/9/2011 12:50</td>\n",
       "      <td>4.15</td>\n",
       "      <td>12680.0</td>\n",
       "      <td>France</td>\n",
       "    </tr>\n",
       "    <tr>\n",
       "      <th>541908</th>\n",
       "      <td>581587</td>\n",
       "      <td>22138</td>\n",
       "      <td>BAKING SET 9 PIECE RETROSPOT</td>\n",
       "      <td>3</td>\n",
       "      <td>12/9/2011 12:50</td>\n",
       "      <td>4.95</td>\n",
       "      <td>12680.0</td>\n",
       "      <td>France</td>\n",
       "    </tr>\n",
       "  </tbody>\n",
       "</table>\n",
       "</div>"
      ],
      "text/plain": [
       "       InvoiceNo StockCode                      Description  Quantity  \\\n",
       "541904    581587     22613      PACK OF 20 SPACEBOY NAPKINS        12   \n",
       "541905    581587     22899     CHILDREN'S APRON DOLLY GIRL          6   \n",
       "541906    581587     23254    CHILDRENS CUTLERY DOLLY GIRL          4   \n",
       "541907    581587     23255  CHILDRENS CUTLERY CIRCUS PARADE         4   \n",
       "541908    581587     22138    BAKING SET 9 PIECE RETROSPOT          3   \n",
       "\n",
       "            InvoiceDate  UnitPrice  CustomerID Country  \n",
       "541904  12/9/2011 12:50       0.85     12680.0  France  \n",
       "541905  12/9/2011 12:50       2.10     12680.0  France  \n",
       "541906  12/9/2011 12:50       4.15     12680.0  France  \n",
       "541907  12/9/2011 12:50       4.15     12680.0  France  \n",
       "541908  12/9/2011 12:50       4.95     12680.0  France  "
      ]
     },
     "execution_count": 5,
     "metadata": {},
     "output_type": "execute_result"
    }
   ],
   "source": [
    "# Display bottom 5 rows\n",
    "df.tail()"
   ]
  },
  {
   "cell_type": "code",
   "execution_count": 6,
   "metadata": {},
   "outputs": [
    {
     "name": "stdout",
     "output_type": "stream",
     "text": [
      "<class 'pandas.core.frame.DataFrame'>\n",
      "RangeIndex: 541909 entries, 0 to 541908\n",
      "Data columns (total 8 columns):\n",
      " #   Column       Non-Null Count   Dtype  \n",
      "---  ------       --------------   -----  \n",
      " 0   InvoiceNo    541909 non-null  object \n",
      " 1   StockCode    541909 non-null  object \n",
      " 2   Description  540455 non-null  object \n",
      " 3   Quantity     541909 non-null  int64  \n",
      " 4   InvoiceDate  541909 non-null  object \n",
      " 5   UnitPrice    541909 non-null  float64\n",
      " 6   CustomerID   406829 non-null  float64\n",
      " 7   Country      541909 non-null  object \n",
      "dtypes: float64(2), int64(1), object(5)\n",
      "memory usage: 33.1+ MB\n"
     ]
    }
   ],
   "source": [
    "df.info()"
   ]
  },
  {
   "cell_type": "code",
   "execution_count": 7,
   "metadata": {},
   "outputs": [
    {
     "data": {
      "text/plain": [
       "InvoiceNo             float64\n",
       "StockCode              object\n",
       "Description            object\n",
       "Quantity                int64\n",
       "InvoiceDate    datetime64[ns]\n",
       "UnitPrice             float64\n",
       "CustomerID            float64\n",
       "Country                object\n",
       "dtype: object"
      ]
     },
     "execution_count": 7,
     "metadata": {},
     "output_type": "execute_result"
    }
   ],
   "source": [
    "# Converting the datatypes\n",
    "df['InvoiceNo'] = pd.to_numeric(df['InvoiceNo'], errors = 'coerce')\n",
    "df['InvoiceDate'] = pd.to_datetime(df['InvoiceDate'])\n",
    "df.dtypes"
   ]
  },
  {
   "cell_type": "code",
   "execution_count": 8,
   "metadata": {
    "tags": []
   },
   "outputs": [],
   "source": [
    "# Convert 'InvoiceDate' to datetime-like object\n",
    "df['InvoiceDate'] = pd.to_datetime(df['InvoiceDate'])\n",
    "\n",
    "# Separate InvoiceDate to Date and Time columns\n",
    "df['Date'] = df['InvoiceDate'].dt.date\n",
    "df['Time'] = df['InvoiceDate'].dt.time"
   ]
  },
  {
   "cell_type": "code",
   "execution_count": 9,
   "metadata": {
    "tags": []
   },
   "outputs": [
    {
     "data": {
      "text/html": [
       "<div>\n",
       "<style scoped>\n",
       "    .dataframe tbody tr th:only-of-type {\n",
       "        vertical-align: middle;\n",
       "    }\n",
       "\n",
       "    .dataframe tbody tr th {\n",
       "        vertical-align: top;\n",
       "    }\n",
       "\n",
       "    .dataframe thead th {\n",
       "        text-align: right;\n",
       "    }\n",
       "</style>\n",
       "<table border=\"1\" class=\"dataframe\">\n",
       "  <thead>\n",
       "    <tr style=\"text-align: right;\">\n",
       "      <th></th>\n",
       "      <th>InvoiceNo</th>\n",
       "      <th>StockCode</th>\n",
       "      <th>Description</th>\n",
       "      <th>Quantity</th>\n",
       "      <th>UnitPrice</th>\n",
       "      <th>CustomerID</th>\n",
       "      <th>Country</th>\n",
       "      <th>Date</th>\n",
       "      <th>Time</th>\n",
       "    </tr>\n",
       "  </thead>\n",
       "  <tbody>\n",
       "    <tr>\n",
       "      <th>0</th>\n",
       "      <td>536365.0</td>\n",
       "      <td>85123A</td>\n",
       "      <td>WHITE HANGING HEART T-LIGHT HOLDER</td>\n",
       "      <td>6</td>\n",
       "      <td>2.55</td>\n",
       "      <td>17850.0</td>\n",
       "      <td>United Kingdom</td>\n",
       "      <td>2010-12-01</td>\n",
       "      <td>08:26:00</td>\n",
       "    </tr>\n",
       "    <tr>\n",
       "      <th>1</th>\n",
       "      <td>536365.0</td>\n",
       "      <td>71053</td>\n",
       "      <td>WHITE METAL LANTERN</td>\n",
       "      <td>6</td>\n",
       "      <td>3.39</td>\n",
       "      <td>17850.0</td>\n",
       "      <td>United Kingdom</td>\n",
       "      <td>2010-12-01</td>\n",
       "      <td>08:26:00</td>\n",
       "    </tr>\n",
       "    <tr>\n",
       "      <th>2</th>\n",
       "      <td>536365.0</td>\n",
       "      <td>84406B</td>\n",
       "      <td>CREAM CUPID HEARTS COAT HANGER</td>\n",
       "      <td>8</td>\n",
       "      <td>2.75</td>\n",
       "      <td>17850.0</td>\n",
       "      <td>United Kingdom</td>\n",
       "      <td>2010-12-01</td>\n",
       "      <td>08:26:00</td>\n",
       "    </tr>\n",
       "    <tr>\n",
       "      <th>3</th>\n",
       "      <td>536365.0</td>\n",
       "      <td>84029G</td>\n",
       "      <td>KNITTED UNION FLAG HOT WATER BOTTLE</td>\n",
       "      <td>6</td>\n",
       "      <td>3.39</td>\n",
       "      <td>17850.0</td>\n",
       "      <td>United Kingdom</td>\n",
       "      <td>2010-12-01</td>\n",
       "      <td>08:26:00</td>\n",
       "    </tr>\n",
       "    <tr>\n",
       "      <th>4</th>\n",
       "      <td>536365.0</td>\n",
       "      <td>84029E</td>\n",
       "      <td>RED WOOLLY HOTTIE WHITE HEART.</td>\n",
       "      <td>6</td>\n",
       "      <td>3.39</td>\n",
       "      <td>17850.0</td>\n",
       "      <td>United Kingdom</td>\n",
       "      <td>2010-12-01</td>\n",
       "      <td>08:26:00</td>\n",
       "    </tr>\n",
       "    <tr>\n",
       "      <th>...</th>\n",
       "      <td>...</td>\n",
       "      <td>...</td>\n",
       "      <td>...</td>\n",
       "      <td>...</td>\n",
       "      <td>...</td>\n",
       "      <td>...</td>\n",
       "      <td>...</td>\n",
       "      <td>...</td>\n",
       "      <td>...</td>\n",
       "    </tr>\n",
       "    <tr>\n",
       "      <th>541904</th>\n",
       "      <td>581587.0</td>\n",
       "      <td>22613</td>\n",
       "      <td>PACK OF 20 SPACEBOY NAPKINS</td>\n",
       "      <td>12</td>\n",
       "      <td>0.85</td>\n",
       "      <td>12680.0</td>\n",
       "      <td>France</td>\n",
       "      <td>2011-12-09</td>\n",
       "      <td>12:50:00</td>\n",
       "    </tr>\n",
       "    <tr>\n",
       "      <th>541905</th>\n",
       "      <td>581587.0</td>\n",
       "      <td>22899</td>\n",
       "      <td>CHILDREN'S APRON DOLLY GIRL</td>\n",
       "      <td>6</td>\n",
       "      <td>2.10</td>\n",
       "      <td>12680.0</td>\n",
       "      <td>France</td>\n",
       "      <td>2011-12-09</td>\n",
       "      <td>12:50:00</td>\n",
       "    </tr>\n",
       "    <tr>\n",
       "      <th>541906</th>\n",
       "      <td>581587.0</td>\n",
       "      <td>23254</td>\n",
       "      <td>CHILDRENS CUTLERY DOLLY GIRL</td>\n",
       "      <td>4</td>\n",
       "      <td>4.15</td>\n",
       "      <td>12680.0</td>\n",
       "      <td>France</td>\n",
       "      <td>2011-12-09</td>\n",
       "      <td>12:50:00</td>\n",
       "    </tr>\n",
       "    <tr>\n",
       "      <th>541907</th>\n",
       "      <td>581587.0</td>\n",
       "      <td>23255</td>\n",
       "      <td>CHILDRENS CUTLERY CIRCUS PARADE</td>\n",
       "      <td>4</td>\n",
       "      <td>4.15</td>\n",
       "      <td>12680.0</td>\n",
       "      <td>France</td>\n",
       "      <td>2011-12-09</td>\n",
       "      <td>12:50:00</td>\n",
       "    </tr>\n",
       "    <tr>\n",
       "      <th>541908</th>\n",
       "      <td>581587.0</td>\n",
       "      <td>22138</td>\n",
       "      <td>BAKING SET 9 PIECE RETROSPOT</td>\n",
       "      <td>3</td>\n",
       "      <td>4.95</td>\n",
       "      <td>12680.0</td>\n",
       "      <td>France</td>\n",
       "      <td>2011-12-09</td>\n",
       "      <td>12:50:00</td>\n",
       "    </tr>\n",
       "  </tbody>\n",
       "</table>\n",
       "<p>541909 rows × 9 columns</p>\n",
       "</div>"
      ],
      "text/plain": [
       "        InvoiceNo StockCode                          Description  Quantity  \\\n",
       "0        536365.0    85123A   WHITE HANGING HEART T-LIGHT HOLDER         6   \n",
       "1        536365.0     71053                  WHITE METAL LANTERN         6   \n",
       "2        536365.0    84406B       CREAM CUPID HEARTS COAT HANGER         8   \n",
       "3        536365.0    84029G  KNITTED UNION FLAG HOT WATER BOTTLE         6   \n",
       "4        536365.0    84029E       RED WOOLLY HOTTIE WHITE HEART.         6   \n",
       "...           ...       ...                                  ...       ...   \n",
       "541904   581587.0     22613          PACK OF 20 SPACEBOY NAPKINS        12   \n",
       "541905   581587.0     22899         CHILDREN'S APRON DOLLY GIRL          6   \n",
       "541906   581587.0     23254        CHILDRENS CUTLERY DOLLY GIRL          4   \n",
       "541907   581587.0     23255      CHILDRENS CUTLERY CIRCUS PARADE         4   \n",
       "541908   581587.0     22138        BAKING SET 9 PIECE RETROSPOT          3   \n",
       "\n",
       "        UnitPrice  CustomerID         Country        Date      Time  \n",
       "0            2.55     17850.0  United Kingdom  2010-12-01  08:26:00  \n",
       "1            3.39     17850.0  United Kingdom  2010-12-01  08:26:00  \n",
       "2            2.75     17850.0  United Kingdom  2010-12-01  08:26:00  \n",
       "3            3.39     17850.0  United Kingdom  2010-12-01  08:26:00  \n",
       "4            3.39     17850.0  United Kingdom  2010-12-01  08:26:00  \n",
       "...           ...         ...             ...         ...       ...  \n",
       "541904       0.85     12680.0          France  2011-12-09  12:50:00  \n",
       "541905       2.10     12680.0          France  2011-12-09  12:50:00  \n",
       "541906       4.15     12680.0          France  2011-12-09  12:50:00  \n",
       "541907       4.15     12680.0          France  2011-12-09  12:50:00  \n",
       "541908       4.95     12680.0          France  2011-12-09  12:50:00  \n",
       "\n",
       "[541909 rows x 9 columns]"
      ]
     },
     "execution_count": 9,
     "metadata": {},
     "output_type": "execute_result"
    }
   ],
   "source": [
    "# Dropping the InvoiceDate Column\n",
    "df.drop(columns = ['InvoiceDate'])"
   ]
  },
  {
   "cell_type": "code",
   "execution_count": 10,
   "metadata": {
    "tags": []
   },
   "outputs": [
    {
     "data": {
      "text/plain": [
       "(541909, 10)"
      ]
     },
     "execution_count": 10,
     "metadata": {},
     "output_type": "execute_result"
    }
   ],
   "source": [
    "df.shape"
   ]
  },
  {
   "cell_type": "code",
   "execution_count": 11,
   "metadata": {
    "tags": []
   },
   "outputs": [
    {
     "data": {
      "text/html": [
       "<div>\n",
       "<style scoped>\n",
       "    .dataframe tbody tr th:only-of-type {\n",
       "        vertical-align: middle;\n",
       "    }\n",
       "\n",
       "    .dataframe tbody tr th {\n",
       "        vertical-align: top;\n",
       "    }\n",
       "\n",
       "    .dataframe thead th {\n",
       "        text-align: right;\n",
       "    }\n",
       "</style>\n",
       "<table border=\"1\" class=\"dataframe\">\n",
       "  <thead>\n",
       "    <tr style=\"text-align: right;\">\n",
       "      <th></th>\n",
       "      <th>InvoiceNo</th>\n",
       "      <th>Quantity</th>\n",
       "      <th>InvoiceDate</th>\n",
       "      <th>UnitPrice</th>\n",
       "      <th>CustomerID</th>\n",
       "    </tr>\n",
       "  </thead>\n",
       "  <tbody>\n",
       "    <tr>\n",
       "      <th>count</th>\n",
       "      <td>532618.000000</td>\n",
       "      <td>541909.000000</td>\n",
       "      <td>541909</td>\n",
       "      <td>541909.000000</td>\n",
       "      <td>406829.000000</td>\n",
       "    </tr>\n",
       "    <tr>\n",
       "      <th>mean</th>\n",
       "      <td>559965.752027</td>\n",
       "      <td>9.552250</td>\n",
       "      <td>2011-07-04 13:34:57.156386048</td>\n",
       "      <td>4.611114</td>\n",
       "      <td>15287.690570</td>\n",
       "    </tr>\n",
       "    <tr>\n",
       "      <th>min</th>\n",
       "      <td>536365.000000</td>\n",
       "      <td>-80995.000000</td>\n",
       "      <td>2010-12-01 08:26:00</td>\n",
       "      <td>-11062.060000</td>\n",
       "      <td>12346.000000</td>\n",
       "    </tr>\n",
       "    <tr>\n",
       "      <th>25%</th>\n",
       "      <td>547906.000000</td>\n",
       "      <td>1.000000</td>\n",
       "      <td>2011-03-28 11:34:00</td>\n",
       "      <td>1.250000</td>\n",
       "      <td>13953.000000</td>\n",
       "    </tr>\n",
       "    <tr>\n",
       "      <th>50%</th>\n",
       "      <td>560688.000000</td>\n",
       "      <td>3.000000</td>\n",
       "      <td>2011-07-19 17:17:00</td>\n",
       "      <td>2.080000</td>\n",
       "      <td>15152.000000</td>\n",
       "    </tr>\n",
       "    <tr>\n",
       "      <th>75%</th>\n",
       "      <td>571841.000000</td>\n",
       "      <td>10.000000</td>\n",
       "      <td>2011-10-19 11:27:00</td>\n",
       "      <td>4.130000</td>\n",
       "      <td>16791.000000</td>\n",
       "    </tr>\n",
       "    <tr>\n",
       "      <th>max</th>\n",
       "      <td>581587.000000</td>\n",
       "      <td>80995.000000</td>\n",
       "      <td>2011-12-09 12:50:00</td>\n",
       "      <td>38970.000000</td>\n",
       "      <td>18287.000000</td>\n",
       "    </tr>\n",
       "    <tr>\n",
       "      <th>std</th>\n",
       "      <td>13428.417281</td>\n",
       "      <td>218.081158</td>\n",
       "      <td>NaN</td>\n",
       "      <td>96.759853</td>\n",
       "      <td>1713.600303</td>\n",
       "    </tr>\n",
       "  </tbody>\n",
       "</table>\n",
       "</div>"
      ],
      "text/plain": [
       "           InvoiceNo       Quantity                    InvoiceDate  \\\n",
       "count  532618.000000  541909.000000                         541909   \n",
       "mean   559965.752027       9.552250  2011-07-04 13:34:57.156386048   \n",
       "min    536365.000000  -80995.000000            2010-12-01 08:26:00   \n",
       "25%    547906.000000       1.000000            2011-03-28 11:34:00   \n",
       "50%    560688.000000       3.000000            2011-07-19 17:17:00   \n",
       "75%    571841.000000      10.000000            2011-10-19 11:27:00   \n",
       "max    581587.000000   80995.000000            2011-12-09 12:50:00   \n",
       "std     13428.417281     218.081158                            NaN   \n",
       "\n",
       "           UnitPrice     CustomerID  \n",
       "count  541909.000000  406829.000000  \n",
       "mean        4.611114   15287.690570  \n",
       "min    -11062.060000   12346.000000  \n",
       "25%         1.250000   13953.000000  \n",
       "50%         2.080000   15152.000000  \n",
       "75%         4.130000   16791.000000  \n",
       "max     38970.000000   18287.000000  \n",
       "std        96.759853    1713.600303  "
      ]
     },
     "execution_count": 11,
     "metadata": {},
     "output_type": "execute_result"
    }
   ],
   "source": [
    "df.describe()"
   ]
  },
  {
   "cell_type": "markdown",
   "metadata": {},
   "source": [
    "# Check the categorical/strings features of the dataset\n",
    "categorical_features = df.select_dtypes(include=[np.object])\n",
    "categorical_features"
   ]
  },
  {
   "cell_type": "code",
   "execution_count": 12,
   "metadata": {
    "tags": []
   },
   "outputs": [
    {
     "name": "stdout",
     "output_type": "stream",
     "text": [
      "The number of duplicate rows:  (5268, 10)\n"
     ]
    }
   ],
   "source": [
    "# Check for Duplicates\n",
    "duplicate_rows_df = df[df.duplicated()]\n",
    "print(\"The number of duplicate rows: \", duplicate_rows_df.shape)"
   ]
  },
  {
   "cell_type": "code",
   "execution_count": 13,
   "metadata": {
    "tags": []
   },
   "outputs": [
    {
     "data": {
      "text/plain": [
       "InvoiceNo      532618\n",
       "StockCode      541909\n",
       "Description    540455\n",
       "Quantity       541909\n",
       "InvoiceDate    541909\n",
       "UnitPrice      541909\n",
       "CustomerID     406829\n",
       "Country        541909\n",
       "Date           541909\n",
       "Time           541909\n",
       "dtype: int64"
      ]
     },
     "execution_count": 13,
     "metadata": {},
     "output_type": "execute_result"
    }
   ],
   "source": [
    "df.count() # Counting the nmber of rows"
   ]
  },
  {
   "cell_type": "code",
   "execution_count": 14,
   "metadata": {
    "tags": []
   },
   "outputs": [],
   "source": [
    "# Removing the duplicates\n",
    "df = df.drop_duplicates()"
   ]
  },
  {
   "cell_type": "code",
   "execution_count": 15,
   "metadata": {
    "tags": []
   },
   "outputs": [
    {
     "data": {
      "text/plain": [
       "InvoiceNo      527387\n",
       "StockCode      536641\n",
       "Description    535187\n",
       "Quantity       536641\n",
       "InvoiceDate    536641\n",
       "UnitPrice      536641\n",
       "CustomerID     401604\n",
       "Country        536641\n",
       "Date           536641\n",
       "Time           536641\n",
       "dtype: int64"
      ]
     },
     "execution_count": 15,
     "metadata": {},
     "output_type": "execute_result"
    }
   ],
   "source": [
    "df.count()"
   ]
  },
  {
   "cell_type": "code",
   "execution_count": 16,
   "metadata": {
    "tags": []
   },
   "outputs": [
    {
     "name": "stdout",
     "output_type": "stream",
     "text": [
      "Number of unique CustomerIDs: 4372\n"
     ]
    }
   ],
   "source": [
    "# Number of Unique Customers \n",
    "unique_customers = df['CustomerID'].nunique()\n",
    "print(f\"Number of unique CustomerIDs: {unique_customers}\")"
   ]
  },
  {
   "cell_type": "code",
   "execution_count": 17,
   "metadata": {
    "tags": []
   },
   "outputs": [
    {
     "name": "stdout",
     "output_type": "stream",
     "text": [
      "InvoiceNo        9254\n",
      "StockCode           0\n",
      "Description      1454\n",
      "Quantity            0\n",
      "InvoiceDate         0\n",
      "UnitPrice           0\n",
      "CustomerID     135037\n",
      "Country             0\n",
      "Date                0\n",
      "Time                0\n",
      "dtype: int64\n"
     ]
    }
   ],
   "source": [
    "# Check for missing or null values\n",
    "print(df.isnull().sum())"
   ]
  },
  {
   "cell_type": "code",
   "execution_count": 18,
   "metadata": {
    "tags": []
   },
   "outputs": [
    {
     "data": {
      "text/plain": [
       "InvoiceNo      392732\n",
       "StockCode      392732\n",
       "Description    392732\n",
       "Quantity       392732\n",
       "InvoiceDate    392732\n",
       "UnitPrice      392732\n",
       "CustomerID     392732\n",
       "Country        392732\n",
       "Date           392732\n",
       "Time           392732\n",
       "dtype: int64"
      ]
     },
     "execution_count": 18,
     "metadata": {},
     "output_type": "execute_result"
    }
   ],
   "source": [
    "# Dropping the missing or null values\n",
    "df = df.dropna() \n",
    "df.count()"
   ]
  },
  {
   "cell_type": "code",
   "execution_count": 19,
   "metadata": {
    "tags": []
   },
   "outputs": [
    {
     "name": "stdout",
     "output_type": "stream",
     "text": [
      "InvoiceNo      0\n",
      "StockCode      0\n",
      "Description    0\n",
      "Quantity       0\n",
      "InvoiceDate    0\n",
      "UnitPrice      0\n",
      "CustomerID     0\n",
      "Country        0\n",
      "Date           0\n",
      "Time           0\n",
      "dtype: int64\n"
     ]
    }
   ],
   "source": [
    "# # Rechecking the missing or null values\n",
    "print(df.isnull().sum())"
   ]
  },
  {
   "cell_type": "code",
   "execution_count": 20,
   "metadata": {
    "tags": []
   },
   "outputs": [
    {
     "data": {
      "text/plain": [
       "InvoiceNo             float64\n",
       "StockCode              object\n",
       "Description            object\n",
       "Quantity                int64\n",
       "InvoiceDate    datetime64[ns]\n",
       "UnitPrice             float64\n",
       "CustomerID            float64\n",
       "Country                object\n",
       "Date                   object\n",
       "Time                   object\n",
       "dtype: object"
      ]
     },
     "execution_count": 20,
     "metadata": {},
     "output_type": "execute_result"
    }
   ],
   "source": [
    "# Get the list of column names\n",
    "columns = list(df.columns)\n",
    "df.dtypes"
   ]
  },
  {
   "cell_type": "code",
   "execution_count": 21,
   "metadata": {
    "tags": []
   },
   "outputs": [],
   "source": [
    "# Convert 'Date' column to datetime datatype\n",
    "df['Date'] = pd.to_datetime(df['Date'])\n",
    "\n",
    "# Convert 'Time' column to datetime datatype with a specific format\n",
    "df['Time'] = pd.to_datetime(df['Time'], format='%H:%M:%S')"
   ]
  },
  {
   "cell_type": "code",
   "execution_count": 22,
   "metadata": {
    "tags": []
   },
   "outputs": [],
   "source": [
    "# Move the datetime columns to the right\n",
    "datetime_columns = [col for col in columns if df[col].dtype == 'datetime64[ns]']\n",
    "other_columns = [col for col in columns if col not in datetime_columns]\n",
    "\n",
    "new_order = other_columns + datetime_columns\n",
    "df = df.reindex(columns=new_order)"
   ]
  },
  {
   "cell_type": "code",
   "execution_count": 23,
   "metadata": {
    "tags": []
   },
   "outputs": [],
   "source": [
    "# Create a new column 'TotalPrice' by multiplying 'Quantity' and 'Price'\n",
    "df['TotalPrice'] = df['Quantity'] * df['UnitPrice']"
   ]
  },
  {
   "cell_type": "code",
   "execution_count": 24,
   "metadata": {
    "tags": []
   },
   "outputs": [],
   "source": [
    "# Move the 'TotalPrice' column to come after the 'UnitPrice' column\n",
    "cols = df.columns.tolist()\n",
    "total_price_index = cols.index('TotalPrice')\n",
    "unit_price_index = cols.index('UnitPrice')\n",
    "cols.insert(unit_price_index + 1, cols.pop(total_price_index))"
   ]
  },
  {
   "cell_type": "code",
   "execution_count": 25,
   "metadata": {},
   "outputs": [],
   "source": [
    "# Since we already have the DataFrame 'df' with the desired columns\n",
    "# Find the index of the 'Description' column\n",
    "description_index = df.columns.get_loc('Description')\n",
    "\n",
    "# Insert the 'Country' column right after the 'Description' column\n",
    "df.insert(description_index + 1, 'Country', df.pop('Country'))"
   ]
  },
  {
   "cell_type": "code",
   "execution_count": 26,
   "metadata": {
    "tags": []
   },
   "outputs": [],
   "source": [
    "# Since we already have the DataFrame 'df' with the desired columns\n",
    "# Find the index of the 'Description' column\n",
    "description_index_customer = df.columns.get_loc('StockCode')\n",
    "\n",
    "# Insert the 'Country' column right after the 'Description' column\n",
    "df.insert(description_index_customer + 1, 'CustomerID', df.pop('CustomerID'))"
   ]
  },
  {
   "cell_type": "code",
   "execution_count": 27,
   "metadata": {
    "tags": []
   },
   "outputs": [],
   "source": [
    "# Since we already have the DataFrame 'df' with the desired columns\n",
    "# Find the index of the 'Description' column\n",
    "description_index_total = df.columns.get_loc('UnitPrice')\n",
    "\n",
    "# Insert the 'Country' column right after the 'Description' column\n",
    "df.insert(description_index_total + 1, 'TotalPrice', df.pop('TotalPrice'))"
   ]
  },
  {
   "cell_type": "code",
   "execution_count": 28,
   "metadata": {
    "tags": []
   },
   "outputs": [
    {
     "data": {
      "text/plain": [
       "InvoiceNo             float64\n",
       "StockCode              object\n",
       "CustomerID            float64\n",
       "Description            object\n",
       "Country                object\n",
       "Quantity                int64\n",
       "UnitPrice             float64\n",
       "TotalPrice            float64\n",
       "InvoiceDate    datetime64[ns]\n",
       "Date           datetime64[ns]\n",
       "Time           datetime64[ns]\n",
       "dtype: object"
      ]
     },
     "execution_count": 28,
     "metadata": {},
     "output_type": "execute_result"
    }
   ],
   "source": [
    "df.dtypes"
   ]
  },
  {
   "cell_type": "code",
   "execution_count": 29,
   "metadata": {
    "tags": []
   },
   "outputs": [],
   "source": [
    "# Extract the time part (HH:MM:SS) from the datetime\n",
    "df['Time'] = df['Time'].dt.strftime('%H:%M:%S')"
   ]
  },
  {
   "cell_type": "code",
   "execution_count": 30,
   "metadata": {
    "tags": []
   },
   "outputs": [],
   "source": [
    "df.drop(columns = ['InvoiceDate'], inplace = True)"
   ]
  },
  {
   "cell_type": "code",
   "execution_count": 31,
   "metadata": {
    "editable": true,
    "slideshow": {
     "slide_type": ""
    },
    "tags": []
   },
   "outputs": [
    {
     "data": {
      "text/html": [
       "<div>\n",
       "<style scoped>\n",
       "    .dataframe tbody tr th:only-of-type {\n",
       "        vertical-align: middle;\n",
       "    }\n",
       "\n",
       "    .dataframe tbody tr th {\n",
       "        vertical-align: top;\n",
       "    }\n",
       "\n",
       "    .dataframe thead th {\n",
       "        text-align: right;\n",
       "    }\n",
       "</style>\n",
       "<table border=\"1\" class=\"dataframe\">\n",
       "  <thead>\n",
       "    <tr style=\"text-align: right;\">\n",
       "      <th></th>\n",
       "      <th>InvoiceNo</th>\n",
       "      <th>StockCode</th>\n",
       "      <th>CustomerID</th>\n",
       "      <th>Description</th>\n",
       "      <th>Country</th>\n",
       "      <th>Quantity</th>\n",
       "      <th>UnitPrice</th>\n",
       "      <th>TotalPrice</th>\n",
       "      <th>Date</th>\n",
       "      <th>Time</th>\n",
       "      <th>MonthYear</th>\n",
       "    </tr>\n",
       "  </thead>\n",
       "  <tbody>\n",
       "    <tr>\n",
       "      <th>0</th>\n",
       "      <td>536365.0</td>\n",
       "      <td>85123A</td>\n",
       "      <td>17850.0</td>\n",
       "      <td>WHITE HANGING HEART T-LIGHT HOLDER</td>\n",
       "      <td>United Kingdom</td>\n",
       "      <td>6</td>\n",
       "      <td>2.55</td>\n",
       "      <td>15.30</td>\n",
       "      <td>2010-12-01</td>\n",
       "      <td>08:26:00</td>\n",
       "      <td>2010-12</td>\n",
       "    </tr>\n",
       "    <tr>\n",
       "      <th>1</th>\n",
       "      <td>536365.0</td>\n",
       "      <td>71053</td>\n",
       "      <td>17850.0</td>\n",
       "      <td>WHITE METAL LANTERN</td>\n",
       "      <td>United Kingdom</td>\n",
       "      <td>6</td>\n",
       "      <td>3.39</td>\n",
       "      <td>20.34</td>\n",
       "      <td>2010-12-01</td>\n",
       "      <td>08:26:00</td>\n",
       "      <td>2010-12</td>\n",
       "    </tr>\n",
       "    <tr>\n",
       "      <th>2</th>\n",
       "      <td>536365.0</td>\n",
       "      <td>84406B</td>\n",
       "      <td>17850.0</td>\n",
       "      <td>CREAM CUPID HEARTS COAT HANGER</td>\n",
       "      <td>United Kingdom</td>\n",
       "      <td>8</td>\n",
       "      <td>2.75</td>\n",
       "      <td>22.00</td>\n",
       "      <td>2010-12-01</td>\n",
       "      <td>08:26:00</td>\n",
       "      <td>2010-12</td>\n",
       "    </tr>\n",
       "    <tr>\n",
       "      <th>3</th>\n",
       "      <td>536365.0</td>\n",
       "      <td>84029G</td>\n",
       "      <td>17850.0</td>\n",
       "      <td>KNITTED UNION FLAG HOT WATER BOTTLE</td>\n",
       "      <td>United Kingdom</td>\n",
       "      <td>6</td>\n",
       "      <td>3.39</td>\n",
       "      <td>20.34</td>\n",
       "      <td>2010-12-01</td>\n",
       "      <td>08:26:00</td>\n",
       "      <td>2010-12</td>\n",
       "    </tr>\n",
       "    <tr>\n",
       "      <th>4</th>\n",
       "      <td>536365.0</td>\n",
       "      <td>84029E</td>\n",
       "      <td>17850.0</td>\n",
       "      <td>RED WOOLLY HOTTIE WHITE HEART.</td>\n",
       "      <td>United Kingdom</td>\n",
       "      <td>6</td>\n",
       "      <td>3.39</td>\n",
       "      <td>20.34</td>\n",
       "      <td>2010-12-01</td>\n",
       "      <td>08:26:00</td>\n",
       "      <td>2010-12</td>\n",
       "    </tr>\n",
       "    <tr>\n",
       "      <th>...</th>\n",
       "      <td>...</td>\n",
       "      <td>...</td>\n",
       "      <td>...</td>\n",
       "      <td>...</td>\n",
       "      <td>...</td>\n",
       "      <td>...</td>\n",
       "      <td>...</td>\n",
       "      <td>...</td>\n",
       "      <td>...</td>\n",
       "      <td>...</td>\n",
       "      <td>...</td>\n",
       "    </tr>\n",
       "    <tr>\n",
       "      <th>541904</th>\n",
       "      <td>581587.0</td>\n",
       "      <td>22613</td>\n",
       "      <td>12680.0</td>\n",
       "      <td>PACK OF 20 SPACEBOY NAPKINS</td>\n",
       "      <td>France</td>\n",
       "      <td>12</td>\n",
       "      <td>0.85</td>\n",
       "      <td>10.20</td>\n",
       "      <td>2011-12-09</td>\n",
       "      <td>12:50:00</td>\n",
       "      <td>2011-12</td>\n",
       "    </tr>\n",
       "    <tr>\n",
       "      <th>541905</th>\n",
       "      <td>581587.0</td>\n",
       "      <td>22899</td>\n",
       "      <td>12680.0</td>\n",
       "      <td>CHILDREN'S APRON DOLLY GIRL</td>\n",
       "      <td>France</td>\n",
       "      <td>6</td>\n",
       "      <td>2.10</td>\n",
       "      <td>12.60</td>\n",
       "      <td>2011-12-09</td>\n",
       "      <td>12:50:00</td>\n",
       "      <td>2011-12</td>\n",
       "    </tr>\n",
       "    <tr>\n",
       "      <th>541906</th>\n",
       "      <td>581587.0</td>\n",
       "      <td>23254</td>\n",
       "      <td>12680.0</td>\n",
       "      <td>CHILDRENS CUTLERY DOLLY GIRL</td>\n",
       "      <td>France</td>\n",
       "      <td>4</td>\n",
       "      <td>4.15</td>\n",
       "      <td>16.60</td>\n",
       "      <td>2011-12-09</td>\n",
       "      <td>12:50:00</td>\n",
       "      <td>2011-12</td>\n",
       "    </tr>\n",
       "    <tr>\n",
       "      <th>541907</th>\n",
       "      <td>581587.0</td>\n",
       "      <td>23255</td>\n",
       "      <td>12680.0</td>\n",
       "      <td>CHILDRENS CUTLERY CIRCUS PARADE</td>\n",
       "      <td>France</td>\n",
       "      <td>4</td>\n",
       "      <td>4.15</td>\n",
       "      <td>16.60</td>\n",
       "      <td>2011-12-09</td>\n",
       "      <td>12:50:00</td>\n",
       "      <td>2011-12</td>\n",
       "    </tr>\n",
       "    <tr>\n",
       "      <th>541908</th>\n",
       "      <td>581587.0</td>\n",
       "      <td>22138</td>\n",
       "      <td>12680.0</td>\n",
       "      <td>BAKING SET 9 PIECE RETROSPOT</td>\n",
       "      <td>France</td>\n",
       "      <td>3</td>\n",
       "      <td>4.95</td>\n",
       "      <td>14.85</td>\n",
       "      <td>2011-12-09</td>\n",
       "      <td>12:50:00</td>\n",
       "      <td>2011-12</td>\n",
       "    </tr>\n",
       "  </tbody>\n",
       "</table>\n",
       "<p>392732 rows × 11 columns</p>\n",
       "</div>"
      ],
      "text/plain": [
       "        InvoiceNo StockCode  CustomerID                          Description  \\\n",
       "0        536365.0    85123A     17850.0   WHITE HANGING HEART T-LIGHT HOLDER   \n",
       "1        536365.0     71053     17850.0                  WHITE METAL LANTERN   \n",
       "2        536365.0    84406B     17850.0       CREAM CUPID HEARTS COAT HANGER   \n",
       "3        536365.0    84029G     17850.0  KNITTED UNION FLAG HOT WATER BOTTLE   \n",
       "4        536365.0    84029E     17850.0       RED WOOLLY HOTTIE WHITE HEART.   \n",
       "...           ...       ...         ...                                  ...   \n",
       "541904   581587.0     22613     12680.0          PACK OF 20 SPACEBOY NAPKINS   \n",
       "541905   581587.0     22899     12680.0         CHILDREN'S APRON DOLLY GIRL    \n",
       "541906   581587.0     23254     12680.0        CHILDRENS CUTLERY DOLLY GIRL    \n",
       "541907   581587.0     23255     12680.0      CHILDRENS CUTLERY CIRCUS PARADE   \n",
       "541908   581587.0     22138     12680.0        BAKING SET 9 PIECE RETROSPOT    \n",
       "\n",
       "               Country  Quantity  UnitPrice  TotalPrice       Date      Time  \\\n",
       "0       United Kingdom         6       2.55       15.30 2010-12-01  08:26:00   \n",
       "1       United Kingdom         6       3.39       20.34 2010-12-01  08:26:00   \n",
       "2       United Kingdom         8       2.75       22.00 2010-12-01  08:26:00   \n",
       "3       United Kingdom         6       3.39       20.34 2010-12-01  08:26:00   \n",
       "4       United Kingdom         6       3.39       20.34 2010-12-01  08:26:00   \n",
       "...                ...       ...        ...         ...        ...       ...   \n",
       "541904          France        12       0.85       10.20 2011-12-09  12:50:00   \n",
       "541905          France         6       2.10       12.60 2011-12-09  12:50:00   \n",
       "541906          France         4       4.15       16.60 2011-12-09  12:50:00   \n",
       "541907          France         4       4.15       16.60 2011-12-09  12:50:00   \n",
       "541908          France         3       4.95       14.85 2011-12-09  12:50:00   \n",
       "\n",
       "       MonthYear  \n",
       "0        2010-12  \n",
       "1        2010-12  \n",
       "2        2010-12  \n",
       "3        2010-12  \n",
       "4        2010-12  \n",
       "...          ...  \n",
       "541904   2011-12  \n",
       "541905   2011-12  \n",
       "541906   2011-12  \n",
       "541907   2011-12  \n",
       "541908   2011-12  \n",
       "\n",
       "[392732 rows x 11 columns]"
      ]
     },
     "execution_count": 31,
     "metadata": {},
     "output_type": "execute_result"
    }
   ],
   "source": [
    "# Create a new column 'MonthYear' with the month and year only for Data Visualization\n",
    "df['MonthYear'] = df['Date'].dt.to_period('M').copy()\n",
    "\n",
    "# Print the DataFrame with the 'MonthYear' column\n",
    "df"
   ]
  },
  {
   "cell_type": "code",
   "execution_count": 32,
   "metadata": {
    "tags": []
   },
   "outputs": [
    {
     "name": "stdout",
     "output_type": "stream",
     "text": [
      "            Quantity      UnitPrice     TotalPrice\n",
      "count  392732.000000  392732.000000  392732.000000\n",
      "mean       13.153718       3.125596      22.629195\n",
      "std       181.588420      22.240725     311.083465\n",
      "min         1.000000       0.000000       0.000000\n",
      "25%         2.000000       1.250000       4.950000\n",
      "50%         6.000000       1.950000      12.390000\n",
      "75%        12.000000       3.750000      19.800000\n",
      "max     80995.000000    8142.750000  168469.600000\n"
     ]
    }
   ],
   "source": [
    "# Calculating the summary statistics for 'Quantity', 'UnitPrice', and 'TotalPrice'\n",
    "summary_stats = df[['Quantity', 'UnitPrice', 'TotalPrice']].describe()\n",
    "print(summary_stats)"
   ]
  },
  {
   "cell_type": "code",
   "execution_count": 33,
   "metadata": {
    "tags": []
   },
   "outputs": [
    {
     "name": "stdout",
     "output_type": "stream",
     "text": [
      "Number of unique countries: 37\n"
     ]
    }
   ],
   "source": [
    "# Calculate the counts of uniques values in 'Country'\n",
    "unique_country_count = df['Country'].nunique()\n",
    "\n",
    "print(f\"Number of unique countries: {unique_country_count}\")\n"
   ]
  },
  {
   "cell_type": "markdown",
   "metadata": {},
   "source": [
    "## Data Analysis"
   ]
  },
  {
   "cell_type": "markdown",
   "metadata": {
    "tags": []
   },
   "source": [
    "### Analyzing to get the Busiest Month and Day of the Week for the retail store"
   ]
  },
  {
   "cell_type": "code",
   "execution_count": 34,
   "metadata": {
    "tags": []
   },
   "outputs": [
    {
     "name": "stdout",
     "output_type": "stream",
     "text": [
      "Busiest Month for the retail store's sales: 11\n",
      "Busiest Day of the Week for retail store's sales: Thursday\n"
     ]
    }
   ],
   "source": [
    "# Create a copy of the 'Month' column\n",
    "df['Month'] = df['MonthYear'].dt.month.values\n",
    "\n",
    "# Create a copy of the 'DayOfWeek' column\n",
    "df['DayOfWeek'] = df['Date'].dt.day_name().values\n",
    "\n",
    "# Calculate gross sales for each month\n",
    "monthly_sales = df.groupby('Month')['TotalPrice'].sum()\n",
    "\n",
    "# Calculate gross sales for each day of the week\n",
    "daily_sales = df.groupby('DayOfWeek')['TotalPrice'].sum()\n",
    "\n",
    "# Identify the busiest month\n",
    "busiest_month = monthly_sales.idxmax()\n",
    "\n",
    "# Identify the busiest day of the week\n",
    "busiest_day = daily_sales.idxmax()\n",
    "\n",
    "# Print the results\n",
    "print(\"Busiest Month for the retail store's sales:\", busiest_month)\n",
    "print(\"Busiest Day of the Week for retail store's sales:\", busiest_day)"
   ]
  },
  {
   "cell_type": "markdown",
   "metadata": {},
   "source": [
    "### Top 10 Most Valuable Customers"
   ]
  },
  {
   "cell_type": "code",
   "execution_count": 35,
   "metadata": {
    "tags": []
   },
   "outputs": [
    {
     "name": "stdout",
     "output_type": "stream",
     "text": [
      "\u001b[1mAmong 4339 customers, the top 10 customers are:\u001b[0m [14646.0, 18102.0, 17450.0, 16446.0, 14911.0, 12415.0, 14156.0, 17511.0, 16029.0, 12346.0]\n"
     ]
    }
   ],
   "source": [
    "# Assuming you have already loaded your data into the DataFrame 'df'\n",
    "# Calculate the gross purchase amount for each customer\n",
    "customer_total_purchase = df.groupby('CustomerID')['TotalPrice'].sum()\n",
    "\n",
    "# Sort the customers based on the gross purchase amount in descending order\n",
    "most_valuable_customers = customer_total_purchase.sort_values(ascending=False)\n",
    "\n",
    "# Get the total number of customers\n",
    "total_customers = len(customer_total_purchase)\n",
    "\n",
    "# Get the top 10 customers\n",
    "top_10_customers = most_valuable_customers.head(10)\n",
    "\n",
    "# Print the gross number of customers and the top 10 customers\n",
    "print('\\033[1m' + f\"Among {total_customers} customers, the top 10 customers are:\" +'\\033[0m', list(top_10_customers.index))\n",
    "\n"
   ]
  },
  {
   "cell_type": "markdown",
   "metadata": {},
   "source": [
    "### Top 10 Most valuable Items"
   ]
  },
  {
   "cell_type": "code",
   "execution_count": 36,
   "metadata": {
    "tags": []
   },
   "outputs": [
    {
     "name": "stdout",
     "output_type": "stream",
     "text": [
      "\u001b[1mAmong 3877 items, the 10 most valuable items are:\u001b[0m ['PAPER CRAFT , LITTLE BIRDIE', 'REGENCY CAKESTAND 3 TIER', 'WHITE HANGING HEART T-LIGHT HOLDER', 'JUMBO BAG RED RETROSPOT', 'MEDIUM CERAMIC TOP STORAGE JAR', 'POSTAGE', 'PARTY BUNTING', 'ASSORTED COLOUR BIRD ORNAMENT', 'Manual', 'RABBIT NIGHT LIGHT']\n"
     ]
    }
   ],
   "source": [
    "# Calculate the gross purchase amount for each item\n",
    "item_total_purchase = df.groupby('Description')['TotalPrice'].sum()\n",
    "\n",
    "# Sort the items based on the total purchase amount in descending order\n",
    "most_valuable_items = item_total_purchase.sort_values(ascending=False)\n",
    "\n",
    "# Get the top 10 most valuable items\n",
    "top_10_items = most_valuable_items.head(10)\n",
    "\n",
    "# Count the total number of unique items in 'df'\n",
    "total_items = df['Description'].nunique()\n",
    "\n",
    "# Print the total number of items and the top 10 items\n",
    "print('\\033[1m' + f\"Among {total_items} items, the 10 most valuable items are:\" +'\\033[0m', list(top_10_items.index))\n"
   ]
  },
  {
   "cell_type": "markdown",
   "metadata": {},
   "source": [
    "### Total sale value for each Country and top 10 most valuable Countries"
   ]
  },
  {
   "cell_type": "code",
   "execution_count": 37,
   "metadata": {
    "tags": []
   },
   "outputs": [
    {
     "name": "stdout",
     "output_type": "stream",
     "text": [
      "Country\n",
      "United Kingdom          7285024.644\n",
      "Netherlands              285446.340\n",
      "EIRE                     265262.460\n",
      "Germany                  228678.400\n",
      "France                   208934.310\n",
      "Australia                138453.810\n",
      "Spain                     61558.560\n",
      "Switzerland               56443.950\n",
      "Belgium                   41196.340\n",
      "Sweden                    38367.830\n",
      "Japan                     37416.370\n",
      "Norway                    36165.440\n",
      "Portugal                  33375.840\n",
      "Finland                   22546.080\n",
      "Singapore                 21279.290\n",
      "Channel Islands           20440.540\n",
      "Denmark                   18955.340\n",
      "Italy                     17483.240\n",
      "Cyprus                    13502.850\n",
      "Austria                   10198.680\n",
      "Poland                     7334.650\n",
      "Israel                     7215.840\n",
      "Greece                     4760.520\n",
      "Iceland                    4310.000\n",
      "Canada                     3666.380\n",
      "USA                        3580.390\n",
      "Malta                      2725.590\n",
      "Unspecified                2660.770\n",
      "United Arab Emirates       1902.280\n",
      "Lebanon                    1693.880\n",
      "Lithuania                  1661.060\n",
      "European Community         1300.250\n",
      "Brazil                     1143.600\n",
      "RSA                        1002.310\n",
      "Czech Republic              826.740\n",
      "Bahrain                     548.400\n",
      "Saudi Arabia                145.920\n",
      "Name: TotalPrice, dtype: float64\n"
     ]
    }
   ],
   "source": [
    "# Calculate the total sales for each country\n",
    "country_total_sales = df.groupby('Country')['TotalPrice'].sum()\n",
    "country_total_sales_sorted = country_total_sales.sort_values(ascending=False)\n",
    "print(country_total_sales_sorted)"
   ]
  },
  {
   "cell_type": "code",
   "execution_count": 38,
   "metadata": {
    "tags": []
   },
   "outputs": [
    {
     "name": "stdout",
     "output_type": "stream",
     "text": [
      "\u001b[1mAmong 37 countries, the top 10 selling countries are:\u001b[0m ['United Kingdom', 'Netherlands', 'EIRE', 'Germany', 'France', 'Australia', 'Spain', 'Switzerland', 'Belgium', 'Sweden']\n"
     ]
    }
   ],
   "source": [
    "# Calculate the total sales for each country\n",
    "country_total_sales = df.groupby('Country')['TotalPrice'].sum()\n",
    "\n",
    "# Sort countries based on the total sales in descending order\n",
    "top_selling_countries = country_total_sales.sort_values(ascending=False)\n",
    "\n",
    "# Get the top 10 selling countries\n",
    "top_10_countries = top_selling_countries.head(10)\n",
    "\n",
    "# Count the total number of unique countries in 'df'\n",
    "total_countries = df['Country'].nunique()\n",
    "\n",
    "# Print the total number of countries and the top 10 selling countries\n",
    "print('\\033[1m' + f\"Among {total_countries} countries, the top 10 selling countries are:\" +'\\033[0m', list(top_10_countries.index))\n"
   ]
  },
  {
   "cell_type": "markdown",
   "metadata": {},
   "source": [
    "## Data Visualization"
   ]
  },
  {
   "cell_type": "markdown",
   "metadata": {},
   "source": [
    "### Line Chart to Discover the Trend of Total Price for Every Month"
   ]
  },
  {
   "cell_type": "code",
   "execution_count": 39,
   "metadata": {
    "editable": true,
    "slideshow": {
     "slide_type": ""
    },
    "tags": []
   },
   "outputs": [
    {
     "data": {
      "image/png": "[encoded data removed]",
      "text/plain": [
       "<Figure size 1000x600 with 1 Axes>"
      ]
     },
     "metadata": {},
     "output_type": "display_data"
    }
   ],
   "source": [
    "# Group the data by 'MonthYear' and calculate the TotalPrice for each month\n",
    "monthly_data = df.groupby('MonthYear')['TotalPrice'].sum().reset_index()\n",
    "\n",
    "# Convert the 'MonthYear' column to string format\n",
    "monthly_data['MonthYear'] = monthly_data['MonthYear'].astype(str)\n",
    "\n",
    "# Set the figure size using subplots\n",
    "fig, ax = plt.subplots(figsize=(10, 6))\n",
    "\n",
    "# Automatic formatting to the x-axis labels when dealing with dates\n",
    "fig.autofmt_xdate()\n",
    "\n",
    "# Create a plot with markers and lines\n",
    "plt.plot(monthly_data['MonthYear'], monthly_data['TotalPrice'], marker='o', linestyle='-', color='dodgerblue', label='Gross')\n",
    "\n",
    "# Customize the plot\n",
    "plt.title('Total Price by Month', fontsize=16)\n",
    "plt.xlabel('MonthYear', fontsize=12)\n",
    "plt.ylabel('TotalPrice', fontsize=12)\n",
    "plt.xticks(rotation=45, fontsize=10)\n",
    "plt.yticks(fontsize=10)\n",
    "plt.grid(True, linestyle='--', alpha=0.7)\n",
    "plt.legend(loc='upper right', fontsize=12)\n",
    "\n",
    "# Add a background color to the plot\n",
    "ax.set_facecolor('lightgray')\n",
    "\n",
    "# Add more colors and styles if needed\n",
    "# Example: ax.spines['top'].set_color('none')\n",
    "\n",
    "plt.show()  # Show the plot"
   ]
  },
  {
   "cell_type": "markdown",
   "metadata": {},
   "source": [
    "### Heatmap to Visulaize the Correlation of the Quantitaive Data from the Dataset"
   ]
  },
  {
   "cell_type": "code",
   "execution_count": 40,
   "metadata": {},
   "outputs": [
    {
     "data": {
      "text/html": [
       "<div>\n",
       "<style scoped>\n",
       "    .dataframe tbody tr th:only-of-type {\n",
       "        vertical-align: middle;\n",
       "    }\n",
       "\n",
       "    .dataframe tbody tr th {\n",
       "        vertical-align: top;\n",
       "    }\n",
       "\n",
       "    .dataframe thead th {\n",
       "        text-align: right;\n",
       "    }\n",
       "</style>\n",
       "<table border=\"1\" class=\"dataframe\">\n",
       "  <thead>\n",
       "    <tr style=\"text-align: right;\">\n",
       "      <th></th>\n",
       "      <th>Quantity</th>\n",
       "      <th>UnitPrice</th>\n",
       "      <th>TotalPrice</th>\n",
       "    </tr>\n",
       "  </thead>\n",
       "  <tbody>\n",
       "    <tr>\n",
       "      <th>Quantity</th>\n",
       "      <td>1.000000</td>\n",
       "      <td>-0.004577</td>\n",
       "      <td>0.908873</td>\n",
       "    </tr>\n",
       "    <tr>\n",
       "      <th>UnitPrice</th>\n",
       "      <td>-0.004577</td>\n",
       "      <td>1.000000</td>\n",
       "      <td>0.081620</td>\n",
       "    </tr>\n",
       "    <tr>\n",
       "      <th>TotalPrice</th>\n",
       "      <td>0.908873</td>\n",
       "      <td>0.081620</td>\n",
       "      <td>1.000000</td>\n",
       "    </tr>\n",
       "  </tbody>\n",
       "</table>\n",
       "</div>"
      ],
      "text/plain": [
       "            Quantity  UnitPrice  TotalPrice\n",
       "Quantity    1.000000  -0.004577    0.908873\n",
       "UnitPrice  -0.004577   1.000000    0.081620\n",
       "TotalPrice  0.908873   0.081620    1.000000"
      ]
     },
     "execution_count": 40,
     "metadata": {},
     "output_type": "execute_result"
    }
   ],
   "source": [
    "df[['Quantity', 'UnitPrice', 'TotalPrice']].corr()"
   ]
  },
  {
   "cell_type": "code",
   "execution_count": 41,
   "metadata": {},
   "outputs": [
    {
     "data": {
      "text/html": [
       "<div>\n",
       "<style scoped>\n",
       "    .dataframe tbody tr th:only-of-type {\n",
       "        vertical-align: middle;\n",
       "    }\n",
       "\n",
       "    .dataframe tbody tr th {\n",
       "        vertical-align: top;\n",
       "    }\n",
       "\n",
       "    .dataframe thead th {\n",
       "        text-align: right;\n",
       "    }\n",
       "</style>\n",
       "<table border=\"1\" class=\"dataframe\">\n",
       "  <thead>\n",
       "    <tr style=\"text-align: right;\">\n",
       "      <th></th>\n",
       "      <th>InvoiceNo</th>\n",
       "      <th>CustomerID</th>\n",
       "      <th>Quantity</th>\n",
       "      <th>UnitPrice</th>\n",
       "      <th>TotalPrice</th>\n",
       "      <th>Month</th>\n",
       "    </tr>\n",
       "  </thead>\n",
       "  <tbody>\n",
       "    <tr>\n",
       "      <th>InvoiceNo</th>\n",
       "      <td>1.000000</td>\n",
       "      <td>0.000785</td>\n",
       "      <td>-0.002503</td>\n",
       "      <td>-0.005233</td>\n",
       "      <td>-0.002263</td>\n",
       "      <td>0.674147</td>\n",
       "    </tr>\n",
       "    <tr>\n",
       "      <th>CustomerID</th>\n",
       "      <td>0.000785</td>\n",
       "      <td>1.000000</td>\n",
       "      <td>-0.006210</td>\n",
       "      <td>-0.010790</td>\n",
       "      <td>-0.003892</td>\n",
       "      <td>0.029641</td>\n",
       "    </tr>\n",
       "    <tr>\n",
       "      <th>Quantity</th>\n",
       "      <td>-0.002503</td>\n",
       "      <td>-0.006210</td>\n",
       "      <td>1.000000</td>\n",
       "      <td>-0.004577</td>\n",
       "      <td>0.908873</td>\n",
       "      <td>-0.003839</td>\n",
       "    </tr>\n",
       "    <tr>\n",
       "      <th>UnitPrice</th>\n",
       "      <td>-0.005233</td>\n",
       "      <td>-0.010790</td>\n",
       "      <td>-0.004577</td>\n",
       "      <td>1.000000</td>\n",
       "      <td>0.081620</td>\n",
       "      <td>-0.005065</td>\n",
       "    </tr>\n",
       "    <tr>\n",
       "      <th>TotalPrice</th>\n",
       "      <td>-0.002263</td>\n",
       "      <td>-0.003892</td>\n",
       "      <td>0.908873</td>\n",
       "      <td>0.081620</td>\n",
       "      <td>1.000000</td>\n",
       "      <td>-0.002563</td>\n",
       "    </tr>\n",
       "    <tr>\n",
       "      <th>Month</th>\n",
       "      <td>0.674147</td>\n",
       "      <td>0.029641</td>\n",
       "      <td>-0.003839</td>\n",
       "      <td>-0.005065</td>\n",
       "      <td>-0.002563</td>\n",
       "      <td>1.000000</td>\n",
       "    </tr>\n",
       "  </tbody>\n",
       "</table>\n",
       "</div>"
      ],
      "text/plain": [
       "            InvoiceNo  CustomerID  Quantity  UnitPrice  TotalPrice     Month\n",
       "InvoiceNo    1.000000    0.000785 -0.002503  -0.005233   -0.002263  0.674147\n",
       "CustomerID   0.000785    1.000000 -0.006210  -0.010790   -0.003892  0.029641\n",
       "Quantity    -0.002503   -0.006210  1.000000  -0.004577    0.908873 -0.003839\n",
       "UnitPrice   -0.005233   -0.010790 -0.004577   1.000000    0.081620 -0.005065\n",
       "TotalPrice  -0.002263   -0.003892  0.908873   0.081620    1.000000 -0.002563\n",
       "Month        0.674147    0.029641 -0.003839  -0.005065   -0.002563  1.000000"
      ]
     },
     "execution_count": 41,
     "metadata": {},
     "output_type": "execute_result"
    }
   ],
   "source": [
    "df.corr(numeric_only = True)"
   ]
  },
  {
   "cell_type": "code",
   "execution_count": 42,
   "metadata": {
    "tags": []
   },
   "outputs": [
    {
     "data": {
      "image/png": "[encoded data removed]",
      "text/plain": [
       "<Figure size 1000x600 with 2 Axes>"
      ]
     },
     "metadata": {},
     "output_type": "display_data"
    }
   ],
   "source": [
    "# Create a figure and set its size\n",
    "plt.figure(figsize=(10, 6))\n",
    "\n",
    "# Calculate the correlation matrix for specific numeric columns\n",
    "corr = df.corr(numeric_only=True)\n",
    "\n",
    "# Define a custom color map\n",
    "cmap = sns.diverging_palette(220, 20, as_cmap=True)  # Example color map\n",
    "\n",
    "# Create a heatmap with annotations and the custom color map\n",
    "sns.heatmap(corr, cmap=cmap, annot=True)\n",
    "\n",
    "# Display the correlation matrix (optional)\n",
    "corr\n",
    "\n",
    "# Show the heatmap\n",
    "plt.show()"
   ]
  },
  {
   "cell_type": "markdown",
   "metadata": {},
   "source": [
    "### Bar chart to Visualize a comparison of the Total Value of Sales every day of the week"
   ]
  },
  {
   "cell_type": "code",
   "execution_count": 43,
   "metadata": {
    "tags": []
   },
   "outputs": [
    {
     "data": {
      "image/png": "[encoded data removed]",
      "text/plain": [
       "<Figure size 1000x600 with 1 Axes>"
      ]
     },
     "metadata": {},
     "output_type": "display_data"
    }
   ],
   "source": [
    "# Create a figure and set its size\n",
    "plt.figure(figsize=(10, 6))\n",
    "\n",
    "# Define the colors for the bars\n",
    "colors = ['royalblue', 'forestgreen', 'dodgerblue', 'mediumseagreen', 'lightcoral', 'lightseagreen', 'orange']\n",
    "\n",
    "# Create a bar plot\n",
    "plt.bar(daily_sales.index, daily_sales.values, color=colors)\n",
    "\n",
    "# Set labels and title\n",
    "plt.xlabel('Day of the Week', fontsize=12)\n",
    "plt.ylabel('Total Sales Value', fontsize=12)\n",
    "plt.title('Sales Trend by Day of the Week', fontsize=16)\n",
    "\n",
    "# Set custom x-axis labels\n",
    "days_of_week = ['Monday', 'Tuesday', 'Wednesday', 'Thursday', 'Friday', 'Saturday', 'Sunday']\n",
    "plt.xticks(range(len(days_of_week)), days_of_week, rotation=45, fontsize=10)\n",
    "\n",
    "# Add gridlines\n",
    "plt.grid(axis='y', linestyle='--', alpha=0.7)\n",
    "\n",
    "# Show the plot\n",
    "plt.show()"
   ]
  },
  {
   "cell_type": "markdown",
   "metadata": {
    "editable": true,
    "slideshow": {
     "slide_type": ""
    },
    "tags": []
   },
   "source": [
    "## Findings "
   ]
  },
  {
   "cell_type": "markdown",
   "metadata": {},
   "source": [
    "There is a strong postive correlation between Total Price (total sales value) and Quantity purchased, which is expected\n",
    "Total Sales value increased considerably from December of 2010 to November 2011 (there was the highest spike between October and November 2011). This shows that the store getting known as time went by. The drop in sales value in 2011 Decmber could be as because the products that were purchsed most were out of stock, or something happened that damaged their reputation. \n",
    "Thursdays had the most sales. Also going to the weekend, there was a considerable high number of sales. Maybe, the most purchsed stock was available from Thursday, and it deccreased considerably up to Wednesday than there was a spike again on Thursday. \n",
    "United Kingdom had the most sales value.Actually the top countries that made most purchases (in value) were European Countries. Maybe because of proximity hence ease of transport or conveyance? "
   ]
  },
  {
   "cell_type": "markdown",
   "metadata": {},
   "source": [
    "## Conclusions"
   ]
  },
  {
   "cell_type": "markdown",
   "metadata": {},
   "source": [
    "The store should focus on more marketing campaigns especially in European countries where the store is closer to the most clients and potential ones for that matter.\n",
    "Ensure most purchsed items are always and consistenly in stock to avois the slump we see in December, which ideally should be the month with one of the highest sales values considering the products sold and the festivity and the idea around gift giving of these products.  \n",
    "Consider opening storage spaces around locations where there is medium level of purchases since clients in these areas might have reservation due to a long time delivery time and not lack of purchasing power or their relatability with the strore's."
   ]
  }
 ],
 "metadata": {
  "kernelspec": {
   "display_name": "Python 3 (ipykernel)",
   "language": "python",
   "name": "python3"
  },
  "language_info": {
   "codemirror_mode": {
    "name": "ipython",
    "version": 3
   },
   "file_extension": ".py",
   "mimetype": "text/x-python",
   "name": "python",
   "nbconvert_exporter": "python",
   "pygments_lexer": "ipython3",
   "version": "3.12.4"
  }
 },
 "nbformat": 4,
 "nbformat_minor": 4
}
